{
  "nbformat": 4,
  "nbformat_minor": 0,
  "metadata": {
    "colab": {
      "name": "Grover's Algorithm in Qiskit.ipynb",
      "provenance": [],
      "collapsed_sections": [],
      "authorship_tag": "ABX9TyM4Izul7iAn1iLKBGrt83mD",
      "include_colab_link": true
    },
    "kernelspec": {
      "name": "python3",
      "display_name": "Python 3"
    },
    "language_info": {
      "name": "python"
    }
  },
  "cells": [
    {
      "cell_type": "markdown",
      "metadata": {
        "id": "view-in-github",
        "colab_type": "text"
      },
      "source": [
        "<a href=\"https://colab.research.google.com/github/jordi1215/quantum-reinforcement-learning/blob/main/Grover's_Algorithm_in_Qiskit.ipynb\" target=\"_parent\"><img src=\"https://colab.research.google.com/assets/colab-badge.svg\" alt=\"Open In Colab\"/></a>"
      ]
    },
    {
      "cell_type": "code",
      "execution_count": null,
      "metadata": {
        "id": "rvrpp92acYzJ"
      },
      "outputs": [],
      "source": [
        "#initialization\n",
        "%pip install qiskit\n",
        "#%pip install git+https://github.com/qiskit-community/qiskit-textbook.git#subdirectory=qiskit-textbook-src\n",
        "\n",
        "import matplotlib.pyplot as plt\n",
        "import numpy as np\n",
        "\n",
        "# importing Qiskit\n",
        "from qiskit import IBMQ, Aer, assemble, transpile\n",
        "from qiskit import QuantumCircuit, ClassicalRegister, QuantumRegister\n",
        "from qiskit.providers.ibmq import least_busy\n",
        "\n",
        "# import basic plot tools\n",
        "from qiskit.visualization import plot_histogram\n",
        "\n",
        "# print multiple lines\n",
        "from IPython.core.interactiveshell import InteractiveShell\n",
        "InteractiveShell.ast_node_interactivity = 'all'"
      ]
    },
    {
      "cell_type": "code",
      "source": [
        "class Action:\n",
        "    '''The grover circuit that defines the action space of the learning agent'''\n",
        "\n",
        "    def __init__(self, size=2):\n",
        "      #preparing a quantum circuit with two qubits\n",
        "      n = 2\n",
        "      self.grover_circuit = QuantumCircuit(n)\n",
        "      self.grover_circuit = self.__initialize_s(self.grover_circuit, [0,1])\n",
        "    \n",
        "    def add(self, direction):\n",
        "      ''' \n",
        "      adds a new piece unto the grover circuit defined by the action\n",
        "\n",
        "      inputs: \n",
        "            direction (str): one string in the set of [\"up\", \"down\", \"left\", \"right\"]\n",
        "\n",
        "      '''\n",
        "      \n",
        "      diagonals = []\n",
        "      if direction == \"up\":\n",
        "        diagonals = [-1,1,1,1]\n",
        "      elif direction == \"down\":\n",
        "        diagonals = [1,-1,1,1]\n",
        "      elif direction == \"left\":\n",
        "        diagonals = [1,1,-1,1]\n",
        "      elif direction == \"right\":\n",
        "        diagonals = [1,1,1,-1]\n",
        "      else:\n",
        "        diagonals = [1,1,1,1]\n",
        "\n",
        "      self.grover_circuit.diagonal(diagonals, [0,1])\n",
        "\n",
        "      self.grover_circuit.h([0,1])\n",
        "      self.grover_circuit.z([0,1])\n",
        "      self.grover_circuit.cz(0,1)\n",
        "      self.grover_circuit.h([0,1])\n",
        "    \n",
        "    def return_circuit(self):\n",
        "      return self.grover_circuit.copy()\n",
        "\n",
        "\n",
        "    def __initialize_s(self, qc, qubits):\n",
        "      \"\"\"Apply a H-gate to 'qubits' in qc\"\"\"\n",
        "      for q in qubits:\n",
        "          qc.h(q)\n",
        "      return qc\n",
        "\n",
        "  \n"
      ],
      "metadata": {
        "id": "wkm0LiVLIXBX"
      },
      "execution_count": null,
      "outputs": []
    },
    {
      "cell_type": "code",
      "source": [
        "action_space = Action()\n",
        "action_space.add(\"\")\n",
        "\n",
        "grover_circuit = action_space.return_circuit()\n",
        "grover_circuit.measure_all()\n",
        "\n",
        "backend = Aer.get_backend('aer_simulator')\n",
        "#job = execute(grover_circuit, backend=backend)\n",
        "qobj = assemble(grover_circuit)\n",
        "result = backend.run(qobj, shots=1080).result()\n",
        "counts = result.get_counts()\n",
        "print(counts)\n",
        "print(list(counts.keys()))\n",
        "# plot_histogram(counts)"
      ],
      "metadata": {
        "colab": {
          "base_uri": "https://localhost:8080/"
        },
        "id": "tgB4hubHbjVU",
        "outputId": "8cb74d47-2eed-459f-d164-02bbd8a76bc1"
      },
      "execution_count": null,
      "outputs": [
        {
          "output_type": "stream",
          "name": "stdout",
          "text": [
            "{'11': 254, '01': 272, '00': 276, '10': 278}\n",
            "['11', '01', '00', '10']\n"
          ]
        }
      ]
    },
    {
      "cell_type": "code",
      "source": [
        "#preparing a quantum circuit with two qubits\n",
        "n = 2\n",
        "grover_circuit = QuantumCircuit(n)\n",
        "def initialize_s(qc, qubits):\n",
        "    \"\"\"Apply a H-gate to 'qubits' in qc\"\"\"\n",
        "    for q in qubits:\n",
        "        qc.h(q)\n",
        "    return qc\n",
        "\n",
        "grover_circuit = initialize_s(grover_circuit, [0,1])\n",
        "grover_circuit.draw()\n",
        "diagonals = [1,1,1,1]\n",
        "grover_circuit.diagonal(diagonals, [0,1])\n",
        "#grover_circuit.draw()\n",
        "# Diffusion operator (U_s)\n",
        "grover_circuit.h([0,1])\n",
        "grover_circuit.z([0,1])\n",
        "grover_circuit.cz(0,1)\n",
        "grover_circuit.h([0,1])\n",
        "grover_circuit.draw()\n",
        "diagonals = [1,1,1,1]\n",
        "grover_circuit.diagonal(diagonals, [0,1])\n",
        "#grover_circuit.draw()\n",
        "# Diffusion operator (U_s)\n",
        "grover_circuit.h([0,1])\n",
        "grover_circuit.z([0,1])\n",
        "grover_circuit.cz(0,1)\n",
        "grover_circuit.h([0,1])\n",
        "grover_circuit.draw()\n",
        "\n",
        "diagonals = [-1,1,1,1]\n",
        "grover_circuit.diagonal(diagonals, [0,1])\n",
        "#grover_circuit.draw()\n",
        "# Diffusion operator (U_s)\n",
        "grover_circuit.h([0,1])\n",
        "grover_circuit.z([0,1])\n",
        "grover_circuit.cz(0,1)\n",
        "grover_circuit.h([0,1])\n",
        "grover_circuit.draw()\n",
        "\n",
        "grover_circuit_sim = grover_circuit.copy()\n",
        "grover_circuit_sim.save_statevector()\n",
        "grover_circuit.measure_all()"
      ],
      "metadata": {
        "id": "7VW6WZCUlJu9",
        "colab": {
          "base_uri": "https://localhost:8080/",
          "height": 600
        },
        "outputId": "3720d3fd-b9c5-4cfc-b26b-a5355a353a44"
      },
      "execution_count": null,
      "outputs": [
        {
          "output_type": "execute_result",
          "data": {
            "text/plain": [
              "     ┌───┐\n",
              "q_0: ┤ H ├\n",
              "     ├───┤\n",
              "q_1: ┤ H ├\n",
              "     └───┘"
            ],
            "text/html": [
              "<pre style=\"word-wrap: normal;white-space: pre;background: #fff0;line-height: 1.1;font-family: &quot;Courier New&quot;,Courier,monospace\">     ┌───┐\n",
              "q_0: ┤ H ├\n",
              "     ├───┤\n",
              "q_1: ┤ H ├\n",
              "     └───┘</pre>"
            ]
          },
          "metadata": {},
          "execution_count": 104
        },
        {
          "output_type": "execute_result",
          "data": {
            "text/plain": [
              "<qiskit.circuit.instructionset.InstructionSet at 0x7f5f81f732d0>"
            ]
          },
          "metadata": {},
          "execution_count": 104
        },
        {
          "output_type": "execute_result",
          "data": {
            "text/plain": [
              "<qiskit.circuit.instructionset.InstructionSet at 0x7f5f81f73370>"
            ]
          },
          "metadata": {},
          "execution_count": 104
        },
        {
          "output_type": "execute_result",
          "data": {
            "text/plain": [
              "<qiskit.circuit.instructionset.InstructionSet at 0x7f5f81f73a50>"
            ]
          },
          "metadata": {},
          "execution_count": 104
        },
        {
          "output_type": "execute_result",
          "data": {
            "text/plain": [
              "<qiskit.circuit.instructionset.InstructionSet at 0x7f5f8225c4b0>"
            ]
          },
          "metadata": {},
          "execution_count": 104
        },
        {
          "output_type": "execute_result",
          "data": {
            "text/plain": [
              "<qiskit.circuit.instructionset.InstructionSet at 0x7f5f8225c050>"
            ]
          },
          "metadata": {},
          "execution_count": 104
        },
        {
          "output_type": "execute_result",
          "data": {
            "text/plain": [
              "     ┌───┐┌────────────────────┐┌───┐┌───┐   ┌───┐\n",
              "q_0: ┤ H ├┤0                   ├┤ H ├┤ Z ├─■─┤ H ├\n",
              "     ├───┤│  Diagonal(1,1,1,1) │├───┤├───┤ │ ├───┤\n",
              "q_1: ┤ H ├┤1                   ├┤ H ├┤ Z ├─■─┤ H ├\n",
              "     └───┘└────────────────────┘└───┘└───┘   └───┘"
            ],
            "text/html": [
              "<pre style=\"word-wrap: normal;white-space: pre;background: #fff0;line-height: 1.1;font-family: &quot;Courier New&quot;,Courier,monospace\">     ┌───┐┌────────────────────┐┌───┐┌───┐   ┌───┐\n",
              "q_0: ┤ H ├┤0                   ├┤ H ├┤ Z ├─■─┤ H ├\n",
              "     ├───┤│  Diagonal(1,1,1,1) │├───┤├───┤ │ ├───┤\n",
              "q_1: ┤ H ├┤1                   ├┤ H ├┤ Z ├─■─┤ H ├\n",
              "     └───┘└────────────────────┘└───┘└───┘   └───┘</pre>"
            ]
          },
          "metadata": {},
          "execution_count": 104
        },
        {
          "output_type": "execute_result",
          "data": {
            "text/plain": [
              "<qiskit.circuit.instructionset.InstructionSet at 0x7f5f81ef7370>"
            ]
          },
          "metadata": {},
          "execution_count": 104
        },
        {
          "output_type": "execute_result",
          "data": {
            "text/plain": [
              "<qiskit.circuit.instructionset.InstructionSet at 0x7f5f81efb3c0>"
            ]
          },
          "metadata": {},
          "execution_count": 104
        },
        {
          "output_type": "execute_result",
          "data": {
            "text/plain": [
              "<qiskit.circuit.instructionset.InstructionSet at 0x7f5f81efb4b0>"
            ]
          },
          "metadata": {},
          "execution_count": 104
        },
        {
          "output_type": "execute_result",
          "data": {
            "text/plain": [
              "<qiskit.circuit.instructionset.InstructionSet at 0x7f5f81f8b0f0>"
            ]
          },
          "metadata": {},
          "execution_count": 104
        },
        {
          "output_type": "execute_result",
          "data": {
            "text/plain": [
              "<qiskit.circuit.instructionset.InstructionSet at 0x7f5f81efb5f0>"
            ]
          },
          "metadata": {},
          "execution_count": 104
        },
        {
          "output_type": "execute_result",
          "data": {
            "text/plain": [
              "     ┌───┐┌────────────────────┐┌───┐┌───┐   ┌───┐┌────────────────────┐┌───┐»\n",
              "q_0: ┤ H ├┤0                   ├┤ H ├┤ Z ├─■─┤ H ├┤0                   ├┤ H ├»\n",
              "     ├───┤│  Diagonal(1,1,1,1) │├───┤├───┤ │ ├───┤│  Diagonal(1,1,1,1) │├───┤»\n",
              "q_1: ┤ H ├┤1                   ├┤ H ├┤ Z ├─■─┤ H ├┤1                   ├┤ H ├»\n",
              "     └───┘└────────────────────┘└───┘└───┘   └───┘└────────────────────┘└───┘»\n",
              "«     ┌───┐   ┌───┐\n",
              "«q_0: ┤ Z ├─■─┤ H ├\n",
              "«     ├───┤ │ ├───┤\n",
              "«q_1: ┤ Z ├─■─┤ H ├\n",
              "«     └───┘   └───┘"
            ],
            "text/html": [
              "<pre style=\"word-wrap: normal;white-space: pre;background: #fff0;line-height: 1.1;font-family: &quot;Courier New&quot;,Courier,monospace\">     ┌───┐┌────────────────────┐┌───┐┌───┐   ┌───┐┌────────────────────┐┌───┐»\n",
              "q_0: ┤ H ├┤0                   ├┤ H ├┤ Z ├─■─┤ H ├┤0                   ├┤ H ├»\n",
              "     ├───┤│  Diagonal(1,1,1,1) │├───┤├───┤ │ ├───┤│  Diagonal(1,1,1,1) │├───┤»\n",
              "q_1: ┤ H ├┤1                   ├┤ H ├┤ Z ├─■─┤ H ├┤1                   ├┤ H ├»\n",
              "     └───┘└────────────────────┘└───┘└───┘   └───┘└────────────────────┘└───┘»\n",
              "«     ┌───┐   ┌───┐\n",
              "«q_0: ┤ Z ├─■─┤ H ├\n",
              "«     ├───┤ │ ├───┤\n",
              "«q_1: ┤ Z ├─■─┤ H ├\n",
              "«     └───┘   └───┘</pre>"
            ]
          },
          "metadata": {},
          "execution_count": 104
        },
        {
          "output_type": "execute_result",
          "data": {
            "text/plain": [
              "<qiskit.circuit.instructionset.InstructionSet at 0x7f5f81fe6550>"
            ]
          },
          "metadata": {},
          "execution_count": 104
        },
        {
          "output_type": "execute_result",
          "data": {
            "text/plain": [
              "<qiskit.circuit.instructionset.InstructionSet at 0x7f5f81eee6e0>"
            ]
          },
          "metadata": {},
          "execution_count": 104
        },
        {
          "output_type": "execute_result",
          "data": {
            "text/plain": [
              "<qiskit.circuit.instructionset.InstructionSet at 0x7f5f81eee3c0>"
            ]
          },
          "metadata": {},
          "execution_count": 104
        },
        {
          "output_type": "execute_result",
          "data": {
            "text/plain": [
              "<qiskit.circuit.instructionset.InstructionSet at 0x7f5f81eee410>"
            ]
          },
          "metadata": {},
          "execution_count": 104
        },
        {
          "output_type": "execute_result",
          "data": {
            "text/plain": [
              "<qiskit.circuit.instructionset.InstructionSet at 0x7f5f8225cc30>"
            ]
          },
          "metadata": {},
          "execution_count": 104
        },
        {
          "output_type": "execute_result",
          "data": {
            "text/plain": [
              "     ┌───┐┌────────────────────┐┌───┐┌───┐   ┌───┐┌────────────────────┐┌───┐»\n",
              "q_0: ┤ H ├┤0                   ├┤ H ├┤ Z ├─■─┤ H ├┤0                   ├┤ H ├»\n",
              "     ├───┤│  Diagonal(1,1,1,1) │├───┤├───┤ │ ├───┤│  Diagonal(1,1,1,1) │├───┤»\n",
              "q_1: ┤ H ├┤1                   ├┤ H ├┤ Z ├─■─┤ H ├┤1                   ├┤ H ├»\n",
              "     └───┘└────────────────────┘└───┘└───┘   └───┘└────────────────────┘└───┘»\n",
              "«     ┌───┐   ┌───┐┌─────────────────────┐┌───┐┌───┐   ┌───┐\n",
              "«q_0: ┤ Z ├─■─┤ H ├┤0                    ├┤ H ├┤ Z ├─■─┤ H ├\n",
              "«     ├───┤ │ ├───┤│  Diagonal(-1,1,1,1) │├───┤├───┤ │ ├───┤\n",
              "«q_1: ┤ Z ├─■─┤ H ├┤1                    ├┤ H ├┤ Z ├─■─┤ H ├\n",
              "«     └───┘   └───┘└─────────────────────┘└───┘└───┘   └───┘"
            ],
            "text/html": [
              "<pre style=\"word-wrap: normal;white-space: pre;background: #fff0;line-height: 1.1;font-family: &quot;Courier New&quot;,Courier,monospace\">     ┌───┐┌────────────────────┐┌───┐┌───┐   ┌───┐┌────────────────────┐┌───┐»\n",
              "q_0: ┤ H ├┤0                   ├┤ H ├┤ Z ├─■─┤ H ├┤0                   ├┤ H ├»\n",
              "     ├───┤│  Diagonal(1,1,1,1) │├───┤├───┤ │ ├───┤│  Diagonal(1,1,1,1) │├───┤»\n",
              "q_1: ┤ H ├┤1                   ├┤ H ├┤ Z ├─■─┤ H ├┤1                   ├┤ H ├»\n",
              "     └───┘└────────────────────┘└───┘└───┘   └───┘└────────────────────┘└───┘»\n",
              "«     ┌───┐   ┌───┐┌─────────────────────┐┌───┐┌───┐   ┌───┐\n",
              "«q_0: ┤ Z ├─■─┤ H ├┤0                    ├┤ H ├┤ Z ├─■─┤ H ├\n",
              "«     ├───┤ │ ├───┤│  Diagonal(-1,1,1,1) │├───┤├───┤ │ ├───┤\n",
              "«q_1: ┤ Z ├─■─┤ H ├┤1                    ├┤ H ├┤ Z ├─■─┤ H ├\n",
              "«     └───┘   └───┘└─────────────────────┘└───┘└───┘   └───┘</pre>"
            ]
          },
          "metadata": {},
          "execution_count": 104
        },
        {
          "output_type": "execute_result",
          "data": {
            "text/plain": [
              "<qiskit.circuit.instructionset.InstructionSet at 0x7f5f81f73c30>"
            ]
          },
          "metadata": {},
          "execution_count": 104
        }
      ]
    },
    {
      "cell_type": "code",
      "source": [
        "\n",
        "sim = Aer.get_backend('aer_simulator')\n",
        "# we need to make a copy of the circuit with the 'save_statevector'\n",
        "# instruction to run on the Aer simulator\n",
        "\n",
        "\n",
        "qobj = assemble(grover_circuit_sim)\n",
        "result = sim.run(qobj, shots=1024).result()\n",
        "statevec = result.get_statevector()\n",
        "counts = result.get_counts()\n",
        "print(statevec)\n",
        "plot_histogram(counts)\n",
        "print(counts)\n",
        "qobj2 = assemble(grover_circuit)\n",
        "result2 = sim.run(qobj2, shots=1024).result()\n",
        "counts2 = result2.get_counts()\n",
        "print(counts2)"
      ],
      "metadata": {
        "id": "MWO_-q0rmuyO",
        "colab": {
          "base_uri": "https://localhost:8080/",
          "height": 453
        },
        "outputId": "1dbd622f-2f92-4b48-83bf-279a6559422d"
      },
      "execution_count": null,
      "outputs": [
        {
          "output_type": "stream",
          "name": "stdout",
          "text": [
            "Statevector([ 1.00000000e+00-4.89858720e-16j,\n",
            "             -1.57009246e-16+5.22945840e-32j,\n",
            "             -2.22044605e-16+9.86076132e-32j,\n",
            "             -1.57009246e-16+5.22945840e-32j],\n",
            "            dims=(2, 2))\n"
          ]
        },
        {
          "output_type": "execute_result",
          "data": {
            "text/plain": [
              "<Figure size 504x360 with 1 Axes>"
            ],
            "image/png": "[encoded data removed]"
          },
          "metadata": {},
          "execution_count": 105
        },
        {
          "output_type": "stream",
          "name": "stdout",
          "text": [
            "{'00': 1.0}\n",
            "{'00': 1024}\n"
          ]
        }
      ]
    },
    {
      "cell_type": "code",
      "source": [
        "grover_circuit.measure_all()\n",
        "\n",
        "aer_sim = Aer.get_backend('aer_simulator')\n",
        "qobj = assemble(grover_circuit)\n",
        "result = aer_sim.run(qobj,shots=1).result()\n",
        "counts = result.get_counts()\n",
        "print(list(counts.keys())[0])\n",
        "plot_histogram(counts)"
      ],
      "metadata": {
        "id": "7yxoa26kn17P",
        "colab": {
          "base_uri": "https://localhost:8080/",
          "height": 431
        },
        "outputId": "2a698cd5-d685-49ff-8fa4-91c50f088f5e"
      },
      "execution_count": null,
      "outputs": [
        {
          "output_type": "stream",
          "name": "stdout",
          "text": [
            "00 00 00 00 00\n"
          ]
        },
        {
          "output_type": "execute_result",
          "data": {
            "text/plain": [
              "<Figure size 504x360 with 1 Axes>"
            ],
            "image/png": "[encoded data removed]"
          },
          "metadata": {},
          "execution_count": 10
        }
      ]
    },
    {
      "cell_type": "code",
      "source": [
        "counts = result.get_counts()\n",
        "\n",
        "print(counts)"
      ],
      "metadata": {
        "id": "GAEi1cgkumP-"
      },
      "execution_count": null,
      "outputs": []
    },
    {
      "cell_type": "markdown",
      "source": [
        "How does the actions depend on the states? (Do we need two n-bit q-register per state?)"
      ],
      "metadata": {
        "id": "nAYBMsWJk2D1"
      }
    },
    {
      "cell_type": "code",
      "source": [
        "\n",
        "print(grover_circuit)"
      ],
      "metadata": {
        "id": "qyQ5T6FBWzj7"
      },
      "execution_count": null,
      "outputs": []
    },
    {
      "cell_type": "code",
      "source": [
        "from qiskit import QuantumRegister, ClassicalRegister\n",
        "from qiskit import QuantumCircuit, execute,IBMQ, Aer\n",
        "from qiskit.tools.monitor import job_monitor\n",
        "from qiskit.circuit.library import Diagonal\n",
        "import numpy as np\n",
        "\n",
        "pi = np.pi\n",
        "\n",
        "# IBMQ.enable_account('ENTER API KEY HERE')\n",
        "# provider = IBMQ.get_provider(hub='ibm-q')\n",
        "\n",
        "# backend = provider.get_backend('ibmq_qasm_simulator')\n",
        "\n",
        "backend = Aer.get_backend('aer_simulator')\n",
        "\n",
        "diagonals = [-1,1,1,-1]\n",
        "\n",
        "q = QuantumRegister(2,'q')\n",
        "c = ClassicalRegister(2,'c')\n",
        "\n",
        "circuit = QuantumCircuit(q,c)\n",
        "\n",
        "circuit.h(q[0])\n",
        "circuit.h(q[1])\n",
        "circuit.diagonal(diagonals, q)\n",
        "circuit.h(q[0])\n",
        "circuit.h(q[1])\n",
        "\n",
        "circuit.measure(q,c) # Qubit Measurment\n",
        "\n",
        "print(circuit)\n",
        "\n",
        "job = execute(circuit, backend, shots=8192)\n",
        "    \n",
        "job_monitor(job)\n",
        "counts = job.result().get_counts()\n",
        "\n",
        "print(counts)\n",
        "print(c)"
      ],
      "metadata": {
        "colab": {
          "base_uri": "https://localhost:8080/"
        },
        "id": "pXMYWfINwqRj",
        "outputId": "33f8bc32-3eae-4020-baf2-dfcc2ebfbc52"
      },
      "execution_count": null,
      "outputs": [
        {
          "output_type": "execute_result",
          "data": {
            "text/plain": [
              "<qiskit.circuit.instructionset.InstructionSet at 0x7fccf6ddc5f0>"
            ]
          },
          "metadata": {},
          "execution_count": 11
        },
        {
          "output_type": "execute_result",
          "data": {
            "text/plain": [
              "<qiskit.circuit.instructionset.InstructionSet at 0x7fccf6ddc7d0>"
            ]
          },
          "metadata": {},
          "execution_count": 11
        },
        {
          "output_type": "execute_result",
          "data": {
            "text/plain": [
              "<qiskit.circuit.instructionset.InstructionSet at 0x7fccf6df8dc0>"
            ]
          },
          "metadata": {},
          "execution_count": 11
        },
        {
          "output_type": "execute_result",
          "data": {
            "text/plain": [
              "<qiskit.circuit.instructionset.InstructionSet at 0x7fccf6de7af0>"
            ]
          },
          "metadata": {},
          "execution_count": 11
        },
        {
          "output_type": "execute_result",
          "data": {
            "text/plain": [
              "<qiskit.circuit.instructionset.InstructionSet at 0x7fccf6df4870>"
            ]
          },
          "metadata": {},
          "execution_count": 11
        },
        {
          "output_type": "execute_result",
          "data": {
            "text/plain": [
              "<qiskit.circuit.instructionset.InstructionSet at 0x7fccf6dd6e60>"
            ]
          },
          "metadata": {},
          "execution_count": 11
        },
        {
          "output_type": "stream",
          "name": "stdout",
          "text": [
            "     ┌───┐┌──────────────────────┐┌───┐┌─┐   \n",
            "q_0: ┤ H ├┤0                     ├┤ H ├┤M├───\n",
            "     ├───┤│  Diagonal(-1,1,1,-1) │├───┤└╥┘┌─┐\n",
            "q_1: ┤ H ├┤1                     ├┤ H ├─╫─┤M├\n",
            "     └───┘└──────────────────────┘└───┘ ║ └╥┘\n",
            "c: 2/═══════════════════════════════════╩══╩═\n",
            "                                        0  1 \n",
            "Job Status: job has successfully run\n",
            "{'11': 8192}\n",
            "ClassicalRegister(2, 'c')\n"
          ]
        }
      ]
    }
  ]
}